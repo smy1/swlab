{
  "nbformat": 4,
  "nbformat_minor": 0,
  "metadata": {
    "colab": {
      "provenance": [],
      "authorship_tag": "ABX9TyPxvBN5cKv1qAWn6NRUhLpS",
      "include_colab_link": true
    },
    "kernelspec": {
      "name": "python3",
      "display_name": "Python 3"
    },
    "language_info": {
      "name": "python"
    }
  },
  "cells": [
    {
      "cell_type": "markdown",
      "metadata": {
        "id": "view-in-github",
        "colab_type": "text"
      },
      "source": [
        "<a href=\"https://colab.research.google.com/github/smy1/swlab/blob/main/audio2xlsx.ipynb\" target=\"_parent\"><img src=\"https://colab.research.google.com/assets/colab-badge.svg\" alt=\"Open In Colab\"/></a>"
      ]
    },
    {
      "cell_type": "code",
      "execution_count": 1,
      "metadata": {
        "colab": {
          "base_uri": "https://localhost:8080/",
          "height": 106
        },
        "id": "irHK8F9lO_PX",
        "outputId": "31ddd24e-96f7-4d1b-ec6d-aeae18a70304"
      },
      "outputs": [
        {
          "output_type": "error",
          "ename": "SyntaxError",
          "evalue": "invalid syntax (<ipython-input-1-531291afc8c6>, line 1)",
          "traceback": [
            "\u001b[0;36m  File \u001b[0;32m\"<ipython-input-1-531291afc8c6>\"\u001b[0;36m, line \u001b[0;32m1\u001b[0m\n\u001b[0;31m    https://github.com/smy1/swlab/blob/main/peekaboo/audio2xlsx.ipynb\u001b[0m\n\u001b[0m          ^\u001b[0m\n\u001b[0;31mSyntaxError\u001b[0m\u001b[0;31m:\u001b[0m invalid syntax\n"
          ]
        }
      ],
      "source": [
        "## Prepare the materials:\n",
        "## - check that runtime type is set to T4 GPU\n",
        "## - upload audio files (.mp3) that are to be transcribed to the folder icon on the left\n",
        "\n",
        "## (1) Transcribe audio file using Whisper:\n",
        "!pip install git+https://github.com/openai/whisper.git\n",
        "!whisper YL17.mp3 --language Chinese --model large\n",
        "\n",
        "child=\"YL17\" ## this needs to be the same as the mp3 filename"
      ]
    },
    {
      "cell_type": "code",
      "source": [
        "## (2) Process the .srt output file to get time and speech:\n",
        "!pip install pysrt\n",
        "import pysrt\n",
        "subs=pysrt.open(f\"{child}.srt\")\n",
        "row = len(subs)\n",
        "col = 3\n",
        "matrix = [[\"start\", \"end\", \"text\"]]\n",
        "for r in range(row):\n",
        "    ## Get info from srt\n",
        "    sub = subs[r]\n",
        "    text = sub.text\n",
        "    x1 = str(sub.start)\n",
        "    start = x1[3:8]\n",
        "    x2 = str(sub.end)\n",
        "    end = x2[3:8]\n",
        "    ## Add info to the matrix\n",
        "    matrix.append([start, end, text])"
      ],
      "metadata": {
        "id": "TaR3cv0_Pz8j"
      },
      "execution_count": null,
      "outputs": []
    },
    {
      "cell_type": "code",
      "source": [
        "## (3) Export matrix as excel:\n",
        "!pip install XlsxWriter\n",
        "import xlsxwriter\n",
        "workbook = xlsxwriter.Workbook(f\"{child}.xlsx\")\n",
        "worksheet = workbook.add_worksheet()\n",
        "col2 = 0 ## start from the first column\n",
        "## print every list of the matrix on each row of the excel\n",
        "for row2, data in enumerate(matrix):\n",
        "    worksheet.write_row(row2, col2, data)\n",
        "\n",
        "\n",
        "workbook.close()"
      ],
      "metadata": {
        "id": "3UXaNlqmP4sJ"
      },
      "execution_count": null,
      "outputs": []
    }
  ]
}