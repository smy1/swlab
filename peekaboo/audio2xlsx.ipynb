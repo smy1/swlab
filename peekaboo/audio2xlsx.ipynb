{
  "nbformat": 4,
  "nbformat_minor": 0,
  "metadata": {
    "colab": {
      "provenance": [],
      "gpuType": "T4"
    },
    "kernelspec": {
      "name": "python3",
      "display_name": "Python 3"
    },
    "language_info": {
      "name": "python"
    },
    "accelerator": "GPU"
  },
  "cells": [
    {
      "cell_type": "code",
      "execution_count": null,
      "metadata": {
        "id": "TmJrAuYRLifu"
      },
      "outputs": [],
      "source": [
        "## Prepare the materials:\n",
        "## - check that runtime type is set to T4 GPU\n",
        "## - upload audio files (.mp3) that are to be transcribed to the folder icon on the left\n",
        "\n",
        "## (1) Transcribe audio file using Whisper:\n",
        "!pip install git+https://github.com/openai/whisper.git\n",
        "!whisper YL17.mp3 --language Chinese --model large\n",
        "\n",
        "child=\"YL17\" ## this needs to be the same as the mp3 filename"
      ]
    },
    {
      "cell_type": "code",
      "source": [
        "## (2) Process the .srt output file to get time and speech:\n",
        "!pip install pysrt\n",
        "import pysrt\n",
        "subs=pysrt.open(f\"{child}.srt\")\n",
        "row = len(subs)\n",
        "col = 3\n",
        "matrix = [[\"start\", \"end\", \"text\"]]\n",
        "for r in range(row):\n",
        "    ## Get info from srt\n",
        "    sub = subs[r]\n",
        "    text = sub.text\n",
        "    x1 = str(sub.start)\n",
        "    start = x1[3:8]\n",
        "    x2 = str(sub.end)\n",
        "    end = x2[3:8]\n",
        "    ## Add info to the matrix\n",
        "    matrix.append([start, end, text])"
      ],
      "metadata": {
        "id": "CSNIuAhvLmex"
      },
      "execution_count": null,
      "outputs": []
    },
    {
      "cell_type": "code",
      "source": [
        "## (3) Export matrix as excel:\n",
        "!pip install XlsxWriter\n",
        "import xlsxwriter\n",
        "workbook = xlsxwriter.Workbook(f\"{child}.xlsx\")\n",
        "worksheet = workbook.add_worksheet()\n",
        "col2 = 0 ## start from the first column\n",
        "## print every list of the matrix on each row of the excel\n",
        "for row2, data in enumerate(matrix):\n",
        "    worksheet.write_row(row2, col2, data)\n",
        "\n",
        "\n",
        "workbook.close()\n"
      ],
      "metadata": {
        "id": "__CiiQNfLpXa"
      },
      "execution_count": null,
      "outputs": []
    }
  ]
}